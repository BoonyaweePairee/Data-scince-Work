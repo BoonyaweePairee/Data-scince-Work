{
  "nbformat": 4,
  "nbformat_minor": 0,
  "metadata": {
    "colab": {
      "provenance": []
    },
    "kernelspec": {
      "name": "python3",
      "display_name": "Python 3"
    },
    "language_info": {
      "name": "python"
    }
  },
  "cells": [
    {
      "cell_type": "code",
      "execution_count": 78,
      "metadata": {
        "colab": {
          "base_uri": "https://localhost:8080/"
        },
        "id": "bto0_uEDUhr0",
        "outputId": "cfa60d84-793a-4e1f-af65-6c53030170d9"
      },
      "outputs": [
        {
          "output_type": "stream",
          "name": "stdout",
          "text": [
            "Drive already mounted at /content/drive; to attempt to forcibly remount, call drive.mount(\"/content/drive\", force_remount=True).\n"
          ]
        }
      ],
      "source": [
        "from google.colab import drive\n",
        "drive.mount('/content/drive')"
      ]
    },
    {
      "cell_type": "code",
      "source": [
        "pip install keras"
      ],
      "metadata": {
        "colab": {
          "base_uri": "https://localhost:8080/"
        },
        "id": "38yh1PFVY7l2",
        "outputId": "d577a059-9b48-4b67-e8b1-a7c63bd119a7"
      },
      "execution_count": 79,
      "outputs": [
        {
          "output_type": "stream",
          "name": "stdout",
          "text": [
            "Requirement already satisfied: keras in /usr/local/lib/python3.10/dist-packages (2.12.0)\n"
          ]
        }
      ]
    },
    {
      "cell_type": "code",
      "source": [
        "pip install tensorflow"
      ],
      "metadata": {
        "colab": {
          "base_uri": "https://localhost:8080/"
        },
        "id": "JgzawlfrZDYa",
        "outputId": "f82e739c-e869-4b7c-bbd3-0e0e60fa80be"
      },
      "execution_count": 80,
      "outputs": [
        {
          "output_type": "stream",
          "name": "stdout",
          "text": [
            "Requirement already satisfied: tensorflow in /usr/local/lib/python3.10/dist-packages (2.12.0)\n",
            "Requirement already satisfied: absl-py>=1.0.0 in /usr/local/lib/python3.10/dist-packages (from tensorflow) (1.4.0)\n",
            "Requirement already satisfied: astunparse>=1.6.0 in /usr/local/lib/python3.10/dist-packages (from tensorflow) (1.6.3)\n",
            "Requirement already satisfied: flatbuffers>=2.0 in /usr/local/lib/python3.10/dist-packages (from tensorflow) (23.5.26)\n",
            "Requirement already satisfied: gast<=0.4.0,>=0.2.1 in /usr/local/lib/python3.10/dist-packages (from tensorflow) (0.4.0)\n",
            "Requirement already satisfied: google-pasta>=0.1.1 in /usr/local/lib/python3.10/dist-packages (from tensorflow) (0.2.0)\n",
            "Requirement already satisfied: grpcio<2.0,>=1.24.3 in /usr/local/lib/python3.10/dist-packages (from tensorflow) (1.57.0)\n",
            "Requirement already satisfied: h5py>=2.9.0 in /usr/local/lib/python3.10/dist-packages (from tensorflow) (3.9.0)\n",
            "Requirement already satisfied: jax>=0.3.15 in /usr/local/lib/python3.10/dist-packages (from tensorflow) (0.4.14)\n",
            "Requirement already satisfied: keras<2.13,>=2.12.0 in /usr/local/lib/python3.10/dist-packages (from tensorflow) (2.12.0)\n",
            "Requirement already satisfied: libclang>=13.0.0 in /usr/local/lib/python3.10/dist-packages (from tensorflow) (16.0.6)\n",
            "Requirement already satisfied: numpy<1.24,>=1.22 in /usr/local/lib/python3.10/dist-packages (from tensorflow) (1.23.5)\n",
            "Requirement already satisfied: opt-einsum>=2.3.2 in /usr/local/lib/python3.10/dist-packages (from tensorflow) (3.3.0)\n",
            "Requirement already satisfied: packaging in /usr/local/lib/python3.10/dist-packages (from tensorflow) (23.1)\n",
            "Requirement already satisfied: protobuf!=4.21.0,!=4.21.1,!=4.21.2,!=4.21.3,!=4.21.4,!=4.21.5,<5.0.0dev,>=3.20.3 in /usr/local/lib/python3.10/dist-packages (from tensorflow) (3.20.3)\n",
            "Requirement already satisfied: setuptools in /usr/local/lib/python3.10/dist-packages (from tensorflow) (67.7.2)\n",
            "Requirement already satisfied: six>=1.12.0 in /usr/local/lib/python3.10/dist-packages (from tensorflow) (1.16.0)\n",
            "Requirement already satisfied: tensorboard<2.13,>=2.12 in /usr/local/lib/python3.10/dist-packages (from tensorflow) (2.12.3)\n",
            "Requirement already satisfied: tensorflow-estimator<2.13,>=2.12.0 in /usr/local/lib/python3.10/dist-packages (from tensorflow) (2.12.0)\n",
            "Requirement already satisfied: termcolor>=1.1.0 in /usr/local/lib/python3.10/dist-packages (from tensorflow) (2.3.0)\n",
            "Requirement already satisfied: typing-extensions>=3.6.6 in /usr/local/lib/python3.10/dist-packages (from tensorflow) (4.7.1)\n",
            "Requirement already satisfied: wrapt<1.15,>=1.11.0 in /usr/local/lib/python3.10/dist-packages (from tensorflow) (1.14.1)\n",
            "Requirement already satisfied: tensorflow-io-gcs-filesystem>=0.23.1 in /usr/local/lib/python3.10/dist-packages (from tensorflow) (0.33.0)\n",
            "Requirement already satisfied: wheel<1.0,>=0.23.0 in /usr/local/lib/python3.10/dist-packages (from astunparse>=1.6.0->tensorflow) (0.41.1)\n",
            "Requirement already satisfied: ml-dtypes>=0.2.0 in /usr/local/lib/python3.10/dist-packages (from jax>=0.3.15->tensorflow) (0.2.0)\n",
            "Requirement already satisfied: scipy>=1.7 in /usr/local/lib/python3.10/dist-packages (from jax>=0.3.15->tensorflow) (1.10.1)\n",
            "Requirement already satisfied: google-auth<3,>=1.6.3 in /usr/local/lib/python3.10/dist-packages (from tensorboard<2.13,>=2.12->tensorflow) (2.17.3)\n",
            "Requirement already satisfied: google-auth-oauthlib<1.1,>=0.5 in /usr/local/lib/python3.10/dist-packages (from tensorboard<2.13,>=2.12->tensorflow) (1.0.0)\n",
            "Requirement already satisfied: markdown>=2.6.8 in /usr/local/lib/python3.10/dist-packages (from tensorboard<2.13,>=2.12->tensorflow) (3.4.4)\n",
            "Requirement already satisfied: requests<3,>=2.21.0 in /usr/local/lib/python3.10/dist-packages (from tensorboard<2.13,>=2.12->tensorflow) (2.31.0)\n",
            "Requirement already satisfied: tensorboard-data-server<0.8.0,>=0.7.0 in /usr/local/lib/python3.10/dist-packages (from tensorboard<2.13,>=2.12->tensorflow) (0.7.1)\n",
            "Requirement already satisfied: werkzeug>=1.0.1 in /usr/local/lib/python3.10/dist-packages (from tensorboard<2.13,>=2.12->tensorflow) (2.3.7)\n",
            "Requirement already satisfied: cachetools<6.0,>=2.0.0 in /usr/local/lib/python3.10/dist-packages (from google-auth<3,>=1.6.3->tensorboard<2.13,>=2.12->tensorflow) (5.3.1)\n",
            "Requirement already satisfied: pyasn1-modules>=0.2.1 in /usr/local/lib/python3.10/dist-packages (from google-auth<3,>=1.6.3->tensorboard<2.13,>=2.12->tensorflow) (0.3.0)\n",
            "Requirement already satisfied: rsa<5,>=3.1.4 in /usr/local/lib/python3.10/dist-packages (from google-auth<3,>=1.6.3->tensorboard<2.13,>=2.12->tensorflow) (4.9)\n",
            "Requirement already satisfied: requests-oauthlib>=0.7.0 in /usr/local/lib/python3.10/dist-packages (from google-auth-oauthlib<1.1,>=0.5->tensorboard<2.13,>=2.12->tensorflow) (1.3.1)\n",
            "Requirement already satisfied: charset-normalizer<4,>=2 in /usr/local/lib/python3.10/dist-packages (from requests<3,>=2.21.0->tensorboard<2.13,>=2.12->tensorflow) (3.2.0)\n",
            "Requirement already satisfied: idna<4,>=2.5 in /usr/local/lib/python3.10/dist-packages (from requests<3,>=2.21.0->tensorboard<2.13,>=2.12->tensorflow) (3.4)\n",
            "Requirement already satisfied: urllib3<3,>=1.21.1 in /usr/local/lib/python3.10/dist-packages (from requests<3,>=2.21.0->tensorboard<2.13,>=2.12->tensorflow) (2.0.4)\n",
            "Requirement already satisfied: certifi>=2017.4.17 in /usr/local/lib/python3.10/dist-packages (from requests<3,>=2.21.0->tensorboard<2.13,>=2.12->tensorflow) (2023.7.22)\n",
            "Requirement already satisfied: MarkupSafe>=2.1.1 in /usr/local/lib/python3.10/dist-packages (from werkzeug>=1.0.1->tensorboard<2.13,>=2.12->tensorflow) (2.1.3)\n",
            "Requirement already satisfied: pyasn1<0.6.0,>=0.4.6 in /usr/local/lib/python3.10/dist-packages (from pyasn1-modules>=0.2.1->google-auth<3,>=1.6.3->tensorboard<2.13,>=2.12->tensorflow) (0.5.0)\n",
            "Requirement already satisfied: oauthlib>=3.0.0 in /usr/local/lib/python3.10/dist-packages (from requests-oauthlib>=0.7.0->google-auth-oauthlib<1.1,>=0.5->tensorboard<2.13,>=2.12->tensorflow) (3.2.2)\n"
          ]
        }
      ]
    },
    {
      "cell_type": "code",
      "source": [
        "path = '/content/drive/MyDrive/Colab Notebooks/dataset/iris.csv'\n",
        "iris = pd.read_csv(path)\n",
        "iris"
      ],
      "metadata": {
        "colab": {
          "base_uri": "https://localhost:8080/",
          "height": 424
        },
        "id": "8tsh7Nc6bv-d",
        "outputId": "a40f94f6-8c39-405c-971f-886ba1a8df17"
      },
      "execution_count": 81,
      "outputs": [
        {
          "output_type": "execute_result",
          "data": {
            "text/plain": [
              "     sepal_length  sepal_width  petal_length  petal_width    species\n",
              "0             5.1          3.5           1.4          0.2     setosa\n",
              "1             4.9          3.0           1.4          0.2     setosa\n",
              "2             4.7          3.2           1.3          0.2     setosa\n",
              "3             4.6          3.1           1.5          0.2     setosa\n",
              "4             5.0          3.6           1.4          0.2     setosa\n",
              "..            ...          ...           ...          ...        ...\n",
              "145           6.7          3.0           5.2          2.3  virginica\n",
              "146           6.3          2.5           5.0          1.9  virginica\n",
              "147           6.5          3.0           5.2          2.0  virginica\n",
              "148           6.2          3.4           5.4          2.3  virginica\n",
              "149           5.9          3.0           5.1          1.8  virginica\n",
              "\n",
              "[150 rows x 5 columns]"
            ],
            "text/html": [
              "\n",
              "  <div id=\"df-536e1e1e-8ac5-4653-a60e-3413aae444be\" class=\"colab-df-container\">\n",
              "    <div>\n",
              "<style scoped>\n",
              "    .dataframe tbody tr th:only-of-type {\n",
              "        vertical-align: middle;\n",
              "    }\n",
              "\n",
              "    .dataframe tbody tr th {\n",
              "        vertical-align: top;\n",
              "    }\n",
              "\n",
              "    .dataframe thead th {\n",
              "        text-align: right;\n",
              "    }\n",
              "</style>\n",
              "<table border=\"1\" class=\"dataframe\">\n",
              "  <thead>\n",
              "    <tr style=\"text-align: right;\">\n",
              "      <th></th>\n",
              "      <th>sepal_length</th>\n",
              "      <th>sepal_width</th>\n",
              "      <th>petal_length</th>\n",
              "      <th>petal_width</th>\n",
              "      <th>species</th>\n",
              "    </tr>\n",
              "  </thead>\n",
              "  <tbody>\n",
              "    <tr>\n",
              "      <th>0</th>\n",
              "      <td>5.1</td>\n",
              "      <td>3.5</td>\n",
              "      <td>1.4</td>\n",
              "      <td>0.2</td>\n",
              "      <td>setosa</td>\n",
              "    </tr>\n",
              "    <tr>\n",
              "      <th>1</th>\n",
              "      <td>4.9</td>\n",
              "      <td>3.0</td>\n",
              "      <td>1.4</td>\n",
              "      <td>0.2</td>\n",
              "      <td>setosa</td>\n",
              "    </tr>\n",
              "    <tr>\n",
              "      <th>2</th>\n",
              "      <td>4.7</td>\n",
              "      <td>3.2</td>\n",
              "      <td>1.3</td>\n",
              "      <td>0.2</td>\n",
              "      <td>setosa</td>\n",
              "    </tr>\n",
              "    <tr>\n",
              "      <th>3</th>\n",
              "      <td>4.6</td>\n",
              "      <td>3.1</td>\n",
              "      <td>1.5</td>\n",
              "      <td>0.2</td>\n",
              "      <td>setosa</td>\n",
              "    </tr>\n",
              "    <tr>\n",
              "      <th>4</th>\n",
              "      <td>5.0</td>\n",
              "      <td>3.6</td>\n",
              "      <td>1.4</td>\n",
              "      <td>0.2</td>\n",
              "      <td>setosa</td>\n",
              "    </tr>\n",
              "    <tr>\n",
              "      <th>...</th>\n",
              "      <td>...</td>\n",
              "      <td>...</td>\n",
              "      <td>...</td>\n",
              "      <td>...</td>\n",
              "      <td>...</td>\n",
              "    </tr>\n",
              "    <tr>\n",
              "      <th>145</th>\n",
              "      <td>6.7</td>\n",
              "      <td>3.0</td>\n",
              "      <td>5.2</td>\n",
              "      <td>2.3</td>\n",
              "      <td>virginica</td>\n",
              "    </tr>\n",
              "    <tr>\n",
              "      <th>146</th>\n",
              "      <td>6.3</td>\n",
              "      <td>2.5</td>\n",
              "      <td>5.0</td>\n",
              "      <td>1.9</td>\n",
              "      <td>virginica</td>\n",
              "    </tr>\n",
              "    <tr>\n",
              "      <th>147</th>\n",
              "      <td>6.5</td>\n",
              "      <td>3.0</td>\n",
              "      <td>5.2</td>\n",
              "      <td>2.0</td>\n",
              "      <td>virginica</td>\n",
              "    </tr>\n",
              "    <tr>\n",
              "      <th>148</th>\n",
              "      <td>6.2</td>\n",
              "      <td>3.4</td>\n",
              "      <td>5.4</td>\n",
              "      <td>2.3</td>\n",
              "      <td>virginica</td>\n",
              "    </tr>\n",
              "    <tr>\n",
              "      <th>149</th>\n",
              "      <td>5.9</td>\n",
              "      <td>3.0</td>\n",
              "      <td>5.1</td>\n",
              "      <td>1.8</td>\n",
              "      <td>virginica</td>\n",
              "    </tr>\n",
              "  </tbody>\n",
              "</table>\n",
              "<p>150 rows × 5 columns</p>\n",
              "</div>\n",
              "    <div class=\"colab-df-buttons\">\n",
              "\n",
              "  <div class=\"colab-df-container\">\n",
              "    <button class=\"colab-df-convert\" onclick=\"convertToInteractive('df-536e1e1e-8ac5-4653-a60e-3413aae444be')\"\n",
              "            title=\"Convert this dataframe to an interactive table.\"\n",
              "            style=\"display:none;\">\n",
              "\n",
              "  <svg xmlns=\"http://www.w3.org/2000/svg\" height=\"24px\" viewBox=\"0 -960 960 960\">\n",
              "    <path d=\"M120-120v-720h720v720H120Zm60-500h600v-160H180v160Zm220 220h160v-160H400v160Zm0 220h160v-160H400v160ZM180-400h160v-160H180v160Zm440 0h160v-160H620v160ZM180-180h160v-160H180v160Zm440 0h160v-160H620v160Z\"/>\n",
              "  </svg>\n",
              "    </button>\n",
              "\n",
              "  <style>\n",
              "    .colab-df-container {\n",
              "      display:flex;\n",
              "      gap: 12px;\n",
              "    }\n",
              "\n",
              "    .colab-df-convert {\n",
              "      background-color: #E8F0FE;\n",
              "      border: none;\n",
              "      border-radius: 50%;\n",
              "      cursor: pointer;\n",
              "      display: none;\n",
              "      fill: #1967D2;\n",
              "      height: 32px;\n",
              "      padding: 0 0 0 0;\n",
              "      width: 32px;\n",
              "    }\n",
              "\n",
              "    .colab-df-convert:hover {\n",
              "      background-color: #E2EBFA;\n",
              "      box-shadow: 0px 1px 2px rgba(60, 64, 67, 0.3), 0px 1px 3px 1px rgba(60, 64, 67, 0.15);\n",
              "      fill: #174EA6;\n",
              "    }\n",
              "\n",
              "    .colab-df-buttons div {\n",
              "      margin-bottom: 4px;\n",
              "    }\n",
              "\n",
              "    [theme=dark] .colab-df-convert {\n",
              "      background-color: #3B4455;\n",
              "      fill: #D2E3FC;\n",
              "    }\n",
              "\n",
              "    [theme=dark] .colab-df-convert:hover {\n",
              "      background-color: #434B5C;\n",
              "      box-shadow: 0px 1px 3px 1px rgba(0, 0, 0, 0.15);\n",
              "      filter: drop-shadow(0px 1px 2px rgba(0, 0, 0, 0.3));\n",
              "      fill: #FFFFFF;\n",
              "    }\n",
              "  </style>\n",
              "\n",
              "    <script>\n",
              "      const buttonEl =\n",
              "        document.querySelector('#df-536e1e1e-8ac5-4653-a60e-3413aae444be button.colab-df-convert');\n",
              "      buttonEl.style.display =\n",
              "        google.colab.kernel.accessAllowed ? 'block' : 'none';\n",
              "\n",
              "      async function convertToInteractive(key) {\n",
              "        const element = document.querySelector('#df-536e1e1e-8ac5-4653-a60e-3413aae444be');\n",
              "        const dataTable =\n",
              "          await google.colab.kernel.invokeFunction('convertToInteractive',\n",
              "                                                    [key], {});\n",
              "        if (!dataTable) return;\n",
              "\n",
              "        const docLinkHtml = 'Like what you see? Visit the ' +\n",
              "          '<a target=\"_blank\" href=https://colab.research.google.com/notebooks/data_table.ipynb>data table notebook</a>'\n",
              "          + ' to learn more about interactive tables.';\n",
              "        element.innerHTML = '';\n",
              "        dataTable['output_type'] = 'display_data';\n",
              "        await google.colab.output.renderOutput(dataTable, element);\n",
              "        const docLink = document.createElement('div');\n",
              "        docLink.innerHTML = docLinkHtml;\n",
              "        element.appendChild(docLink);\n",
              "      }\n",
              "    </script>\n",
              "  </div>\n",
              "\n",
              "\n",
              "<div id=\"df-3ab4c368-5b95-4246-9b9c-b87ffd4ce8ea\">\n",
              "  <button class=\"colab-df-quickchart\" onclick=\"quickchart('df-3ab4c368-5b95-4246-9b9c-b87ffd4ce8ea')\"\n",
              "            title=\"Suggest charts.\"\n",
              "            style=\"display:none;\">\n",
              "\n",
              "<svg xmlns=\"http://www.w3.org/2000/svg\" height=\"24px\"viewBox=\"0 0 24 24\"\n",
              "     width=\"24px\">\n",
              "    <g>\n",
              "        <path d=\"M19 3H5c-1.1 0-2 .9-2 2v14c0 1.1.9 2 2 2h14c1.1 0 2-.9 2-2V5c0-1.1-.9-2-2-2zM9 17H7v-7h2v7zm4 0h-2V7h2v10zm4 0h-2v-4h2v4z\"/>\n",
              "    </g>\n",
              "</svg>\n",
              "  </button>\n",
              "\n",
              "<style>\n",
              "  .colab-df-quickchart {\n",
              "    background-color: #E8F0FE;\n",
              "    border: none;\n",
              "    border-radius: 50%;\n",
              "    cursor: pointer;\n",
              "    display: none;\n",
              "    fill: #1967D2;\n",
              "    height: 32px;\n",
              "    padding: 0 0 0 0;\n",
              "    width: 32px;\n",
              "  }\n",
              "\n",
              "  .colab-df-quickchart:hover {\n",
              "    background-color: #E2EBFA;\n",
              "    box-shadow: 0px 1px 2px rgba(60, 64, 67, 0.3), 0px 1px 3px 1px rgba(60, 64, 67, 0.15);\n",
              "    fill: #174EA6;\n",
              "  }\n",
              "\n",
              "  [theme=dark] .colab-df-quickchart {\n",
              "    background-color: #3B4455;\n",
              "    fill: #D2E3FC;\n",
              "  }\n",
              "\n",
              "  [theme=dark] .colab-df-quickchart:hover {\n",
              "    background-color: #434B5C;\n",
              "    box-shadow: 0px 1px 3px 1px rgba(0, 0, 0, 0.15);\n",
              "    filter: drop-shadow(0px 1px 2px rgba(0, 0, 0, 0.3));\n",
              "    fill: #FFFFFF;\n",
              "  }\n",
              "</style>\n",
              "\n",
              "  <script>\n",
              "    async function quickchart(key) {\n",
              "      const charts = await google.colab.kernel.invokeFunction(\n",
              "          'suggestCharts', [key], {});\n",
              "    }\n",
              "    (() => {\n",
              "      let quickchartButtonEl =\n",
              "        document.querySelector('#df-3ab4c368-5b95-4246-9b9c-b87ffd4ce8ea button');\n",
              "      quickchartButtonEl.style.display =\n",
              "        google.colab.kernel.accessAllowed ? 'block' : 'none';\n",
              "    })();\n",
              "  </script>\n",
              "</div>\n",
              "    </div>\n",
              "  </div>\n"
            ]
          },
          "metadata": {},
          "execution_count": 81
        }
      ]
    },
    {
      "cell_type": "code",
      "source": [
        "import numpy as np\n",
        "import pandas as pd\n",
        "from sklearn.model_selection import train_test_split\n",
        "from sklearn.preprocessing import LabelEncoder\n",
        "from keras.models import Sequential\n",
        "from keras.layers import Dense\n",
        "from sklearn.datasets import load_iris"
      ],
      "metadata": {
        "id": "h3fCmWGTgGX4"
      },
      "execution_count": 82,
      "outputs": []
    },
    {
      "cell_type": "code",
      "source": [
        "iris = load_iris()\n",
        "X = iris.data\n",
        "y = iris.target"
      ],
      "metadata": {
        "id": "dDtThrjKejp0"
      },
      "execution_count": 83,
      "outputs": []
    },
    {
      "cell_type": "code",
      "source": [
        "sc = StandardScaler()\n",
        "X = sc.fit_transform(X)"
      ],
      "metadata": {
        "id": "wp6Up3oEiJIY"
      },
      "execution_count": 84,
      "outputs": []
    },
    {
      "cell_type": "code",
      "source": [
        "X_train, X_test, y_train, y_test = train_test_split(X, y, test_size=0.2, random_state=42)"
      ],
      "metadata": {
        "id": "uLv0vLSVhGsW"
      },
      "execution_count": 85,
      "outputs": []
    },
    {
      "cell_type": "code",
      "source": [
        "model = Sequential()\n",
        "\n",
        "model.add(Dense(3,activation='softmax'))\n",
        "opt = SGD(lr=0.01)\n",
        "model.compile(optimizer='adam', loss='sparse_categorical_crossentropy', metrics=['accuracy'])"
      ],
      "metadata": {
        "colab": {
          "base_uri": "https://localhost:8080/"
        },
        "id": "KUNpCj81ZVyx",
        "outputId": "1e0be6ae-532d-4e6b-9f57-5f9a3d2d87ae"
      },
      "execution_count": 86,
      "outputs": [
        {
          "output_type": "stream",
          "name": "stderr",
          "text": [
            "WARNING:absl:`lr` is deprecated in Keras optimizer, please use `learning_rate` or use the legacy optimizer, e.g.,tf.keras.optimizers.legacy.SGD.\n"
          ]
        }
      ]
    },
    {
      "cell_type": "code",
      "source": [
        "history = model.fit(X_train, y_train, batch_size=50, epochs=60, validation_data=(X_test, y_test))"
      ],
      "metadata": {
        "colab": {
          "base_uri": "https://localhost:8080/"
        },
        "id": "Prnke9F5jqh4",
        "outputId": "c95195e7-544f-43d0-fa82-98a1f11609e7"
      },
      "execution_count": 87,
      "outputs": [
        {
          "output_type": "stream",
          "name": "stdout",
          "text": [
            "Epoch 1/60\n",
            "3/3 [==============================] - 1s 144ms/step - loss: 1.2951 - accuracy: 0.1417 - val_loss: 1.3140 - val_accuracy: 0.0333\n",
            "Epoch 2/60\n",
            "3/3 [==============================] - 0s 33ms/step - loss: 1.2847 - accuracy: 0.1417 - val_loss: 1.3033 - val_accuracy: 0.0333\n",
            "Epoch 3/60\n",
            "3/3 [==============================] - 0s 39ms/step - loss: 1.2743 - accuracy: 0.1417 - val_loss: 1.2928 - val_accuracy: 0.0333\n",
            "Epoch 4/60\n",
            "3/3 [==============================] - 0s 42ms/step - loss: 1.2639 - accuracy: 0.1417 - val_loss: 1.2826 - val_accuracy: 0.0667\n",
            "Epoch 5/60\n",
            "3/3 [==============================] - 0s 33ms/step - loss: 1.2542 - accuracy: 0.1417 - val_loss: 1.2723 - val_accuracy: 0.0667\n",
            "Epoch 6/60\n",
            "3/3 [==============================] - 0s 32ms/step - loss: 1.2445 - accuracy: 0.1417 - val_loss: 1.2621 - val_accuracy: 0.0667\n",
            "Epoch 7/60\n",
            "3/3 [==============================] - 0s 63ms/step - loss: 1.2345 - accuracy: 0.1417 - val_loss: 1.2522 - val_accuracy: 0.1000\n",
            "Epoch 8/60\n",
            "3/3 [==============================] - 0s 76ms/step - loss: 1.2251 - accuracy: 0.1417 - val_loss: 1.2424 - val_accuracy: 0.1000\n",
            "Epoch 9/60\n",
            "3/3 [==============================] - 0s 90ms/step - loss: 1.2153 - accuracy: 0.1417 - val_loss: 1.2326 - val_accuracy: 0.1000\n",
            "Epoch 10/60\n",
            "3/3 [==============================] - 0s 65ms/step - loss: 1.2059 - accuracy: 0.1417 - val_loss: 1.2230 - val_accuracy: 0.1333\n",
            "Epoch 11/60\n",
            "3/3 [==============================] - 0s 46ms/step - loss: 1.1962 - accuracy: 0.1417 - val_loss: 1.2134 - val_accuracy: 0.1333\n",
            "Epoch 12/60\n",
            "3/3 [==============================] - 0s 57ms/step - loss: 1.1875 - accuracy: 0.1417 - val_loss: 1.2039 - val_accuracy: 0.1333\n",
            "Epoch 13/60\n",
            "3/3 [==============================] - 0s 57ms/step - loss: 1.1781 - accuracy: 0.1417 - val_loss: 1.1947 - val_accuracy: 0.1333\n",
            "Epoch 14/60\n",
            "3/3 [==============================] - 0s 76ms/step - loss: 1.1689 - accuracy: 0.1500 - val_loss: 1.1856 - val_accuracy: 0.1667\n",
            "Epoch 15/60\n",
            "3/3 [==============================] - 0s 83ms/step - loss: 1.1603 - accuracy: 0.1583 - val_loss: 1.1766 - val_accuracy: 0.1667\n",
            "Epoch 16/60\n",
            "3/3 [==============================] - 0s 77ms/step - loss: 1.1512 - accuracy: 0.1583 - val_loss: 1.1678 - val_accuracy: 0.1667\n",
            "Epoch 17/60\n",
            "3/3 [==============================] - 0s 75ms/step - loss: 1.1427 - accuracy: 0.1667 - val_loss: 1.1589 - val_accuracy: 0.2000\n",
            "Epoch 18/60\n",
            "3/3 [==============================] - 0s 60ms/step - loss: 1.1338 - accuracy: 0.1667 - val_loss: 1.1502 - val_accuracy: 0.2333\n",
            "Epoch 19/60\n",
            "3/3 [==============================] - 0s 99ms/step - loss: 1.1252 - accuracy: 0.1750 - val_loss: 1.1415 - val_accuracy: 0.2333\n",
            "Epoch 20/60\n",
            "3/3 [==============================] - 0s 87ms/step - loss: 1.1171 - accuracy: 0.1750 - val_loss: 1.1329 - val_accuracy: 0.2667\n",
            "Epoch 21/60\n",
            "3/3 [==============================] - 0s 51ms/step - loss: 1.1082 - accuracy: 0.1750 - val_loss: 1.1246 - val_accuracy: 0.3000\n",
            "Epoch 22/60\n",
            "3/3 [==============================] - 0s 51ms/step - loss: 1.0999 - accuracy: 0.2000 - val_loss: 1.1163 - val_accuracy: 0.3000\n",
            "Epoch 23/60\n",
            "3/3 [==============================] - 0s 70ms/step - loss: 1.0918 - accuracy: 0.2167 - val_loss: 1.1080 - val_accuracy: 0.3000\n",
            "Epoch 24/60\n",
            "3/3 [==============================] - 0s 54ms/step - loss: 1.0836 - accuracy: 0.2250 - val_loss: 1.0999 - val_accuracy: 0.3333\n",
            "Epoch 25/60\n",
            "3/3 [==============================] - 0s 45ms/step - loss: 1.0757 - accuracy: 0.2417 - val_loss: 1.0919 - val_accuracy: 0.3667\n",
            "Epoch 26/60\n",
            "3/3 [==============================] - 0s 63ms/step - loss: 1.0678 - accuracy: 0.3000 - val_loss: 1.0840 - val_accuracy: 0.4000\n",
            "Epoch 27/60\n",
            "3/3 [==============================] - 0s 35ms/step - loss: 1.0599 - accuracy: 0.3417 - val_loss: 1.0763 - val_accuracy: 0.4000\n",
            "Epoch 28/60\n",
            "3/3 [==============================] - 0s 52ms/step - loss: 1.0525 - accuracy: 0.3500 - val_loss: 1.0686 - val_accuracy: 0.4333\n",
            "Epoch 29/60\n",
            "3/3 [==============================] - 0s 41ms/step - loss: 1.0449 - accuracy: 0.3917 - val_loss: 1.0609 - val_accuracy: 0.4667\n",
            "Epoch 30/60\n",
            "3/3 [==============================] - 0s 47ms/step - loss: 1.0374 - accuracy: 0.4167 - val_loss: 1.0534 - val_accuracy: 0.5333\n",
            "Epoch 31/60\n",
            "3/3 [==============================] - 0s 43ms/step - loss: 1.0301 - accuracy: 0.4167 - val_loss: 1.0460 - val_accuracy: 0.5333\n",
            "Epoch 32/60\n",
            "3/3 [==============================] - 0s 43ms/step - loss: 1.0227 - accuracy: 0.4583 - val_loss: 1.0388 - val_accuracy: 0.5667\n",
            "Epoch 33/60\n",
            "3/3 [==============================] - 0s 38ms/step - loss: 1.0156 - accuracy: 0.4917 - val_loss: 1.0316 - val_accuracy: 0.5667\n",
            "Epoch 34/60\n",
            "3/3 [==============================] - 0s 40ms/step - loss: 1.0088 - accuracy: 0.5083 - val_loss: 1.0246 - val_accuracy: 0.5667\n",
            "Epoch 35/60\n",
            "3/3 [==============================] - 0s 42ms/step - loss: 1.0018 - accuracy: 0.5583 - val_loss: 1.0176 - val_accuracy: 0.6000\n",
            "Epoch 36/60\n",
            "3/3 [==============================] - 0s 36ms/step - loss: 0.9952 - accuracy: 0.5583 - val_loss: 1.0108 - val_accuracy: 0.6000\n",
            "Epoch 37/60\n",
            "3/3 [==============================] - 0s 35ms/step - loss: 0.9882 - accuracy: 0.5583 - val_loss: 1.0040 - val_accuracy: 0.6000\n",
            "Epoch 38/60\n",
            "3/3 [==============================] - 0s 34ms/step - loss: 0.9818 - accuracy: 0.5667 - val_loss: 0.9973 - val_accuracy: 0.6000\n",
            "Epoch 39/60\n",
            "3/3 [==============================] - 0s 34ms/step - loss: 0.9753 - accuracy: 0.5750 - val_loss: 0.9908 - val_accuracy: 0.6000\n",
            "Epoch 40/60\n",
            "3/3 [==============================] - 0s 43ms/step - loss: 0.9689 - accuracy: 0.5917 - val_loss: 0.9843 - val_accuracy: 0.6000\n",
            "Epoch 41/60\n",
            "3/3 [==============================] - 0s 36ms/step - loss: 0.9625 - accuracy: 0.6000 - val_loss: 0.9779 - val_accuracy: 0.6000\n",
            "Epoch 42/60\n",
            "3/3 [==============================] - 0s 52ms/step - loss: 0.9563 - accuracy: 0.6000 - val_loss: 0.9715 - val_accuracy: 0.6333\n",
            "Epoch 43/60\n",
            "3/3 [==============================] - 0s 26ms/step - loss: 0.9500 - accuracy: 0.6000 - val_loss: 0.9653 - val_accuracy: 0.6333\n",
            "Epoch 44/60\n",
            "3/3 [==============================] - 0s 71ms/step - loss: 0.9439 - accuracy: 0.6083 - val_loss: 0.9591 - val_accuracy: 0.6333\n",
            "Epoch 45/60\n",
            "3/3 [==============================] - 0s 79ms/step - loss: 0.9380 - accuracy: 0.6083 - val_loss: 0.9529 - val_accuracy: 0.6333\n",
            "Epoch 46/60\n",
            "3/3 [==============================] - 0s 43ms/step - loss: 0.9319 - accuracy: 0.6250 - val_loss: 0.9468 - val_accuracy: 0.6333\n",
            "Epoch 47/60\n",
            "3/3 [==============================] - 0s 64ms/step - loss: 0.9260 - accuracy: 0.6417 - val_loss: 0.9408 - val_accuracy: 0.6333\n",
            "Epoch 48/60\n",
            "3/3 [==============================] - 0s 42ms/step - loss: 0.9203 - accuracy: 0.6583 - val_loss: 0.9348 - val_accuracy: 0.6667\n",
            "Epoch 49/60\n",
            "3/3 [==============================] - 0s 50ms/step - loss: 0.9145 - accuracy: 0.6667 - val_loss: 0.9289 - val_accuracy: 0.6667\n",
            "Epoch 50/60\n",
            "3/3 [==============================] - 0s 36ms/step - loss: 0.9087 - accuracy: 0.6750 - val_loss: 0.9232 - val_accuracy: 0.6667\n",
            "Epoch 51/60\n",
            "3/3 [==============================] - 0s 28ms/step - loss: 0.9034 - accuracy: 0.6833 - val_loss: 0.9174 - val_accuracy: 0.6667\n",
            "Epoch 52/60\n",
            "3/3 [==============================] - 0s 44ms/step - loss: 0.8978 - accuracy: 0.6833 - val_loss: 0.9118 - val_accuracy: 0.6667\n",
            "Epoch 53/60\n",
            "3/3 [==============================] - 0s 42ms/step - loss: 0.8923 - accuracy: 0.6833 - val_loss: 0.9064 - val_accuracy: 0.6667\n",
            "Epoch 54/60\n",
            "3/3 [==============================] - 0s 39ms/step - loss: 0.8871 - accuracy: 0.6833 - val_loss: 0.9009 - val_accuracy: 0.6667\n",
            "Epoch 55/60\n",
            "3/3 [==============================] - 0s 40ms/step - loss: 0.8817 - accuracy: 0.7000 - val_loss: 0.8955 - val_accuracy: 0.6667\n",
            "Epoch 56/60\n",
            "3/3 [==============================] - 0s 81ms/step - loss: 0.8766 - accuracy: 0.7000 - val_loss: 0.8902 - val_accuracy: 0.6667\n",
            "Epoch 57/60\n",
            "3/3 [==============================] - 0s 90ms/step - loss: 0.8715 - accuracy: 0.7000 - val_loss: 0.8851 - val_accuracy: 0.6667\n",
            "Epoch 58/60\n",
            "3/3 [==============================] - 0s 64ms/step - loss: 0.8664 - accuracy: 0.7000 - val_loss: 0.8800 - val_accuracy: 0.6667\n",
            "Epoch 59/60\n",
            "3/3 [==============================] - 0s 34ms/step - loss: 0.8615 - accuracy: 0.7083 - val_loss: 0.8750 - val_accuracy: 0.7000\n",
            "Epoch 60/60\n",
            "3/3 [==============================] - 0s 63ms/step - loss: 0.8566 - accuracy: 0.7333 - val_loss: 0.8701 - val_accuracy: 0.7000\n"
          ]
        }
      ]
    },
    {
      "cell_type": "code",
      "source": [
        "score = model.evaluate(X_train, y_train, verbose = 0)\n",
        "print('Train loss : ', score[0])\n",
        "print('Train accuracy : ', score[1])"
      ],
      "metadata": {
        "colab": {
          "base_uri": "https://localhost:8080/"
        },
        "id": "ObZi_7Clp11Y",
        "outputId": "7285d1f5-e57e-41bc-c140-b4bea6610597"
      },
      "execution_count": 90,
      "outputs": [
        {
          "output_type": "stream",
          "name": "stdout",
          "text": [
            "Train loss :  0.8529609441757202\n",
            "Train accuracy :  0.7250000238418579\n"
          ]
        }
      ]
    },
    {
      "cell_type": "code",
      "source": [
        "import matplotlib.pyplot as plt\n",
        "\n",
        "plt.plot(history.history['accuracy'])\n",
        "plt.plot(history.history['val_accuracy'])\n",
        "plt.title('model accuracy')\n",
        "plt.ylabel('accuracy')\n",
        "plt.xlabel('epoch')\n",
        "plt.legend(['train', 'test'], loc = 'upper left')\n",
        "plt.show()"
      ],
      "metadata": {
        "colab": {
          "base_uri": "https://localhost:8080/",
          "height": 472
        },
        "id": "V4yj_bi_nkgS",
        "outputId": "e493e23a-0162-47fe-8d95-1afd6f1d8484"
      },
      "execution_count": 91,
      "outputs": [
        {
          "output_type": "display_data",
          "data": {
            "text/plain": [
              "<Figure size 640x480 with 1 Axes>"
            ],
            "image/png": "[encoded data removed]"
          },
          "metadata": {}
        }
      ]
    },
    {
      "cell_type": "code",
      "source": [
        "model.save(\"Iris_classifier.h5\")\n",
        "print(\"Saved model.\")"
      ],
      "metadata": {
        "colab": {
          "base_uri": "https://localhost:8080/"
        },
        "id": "opmW73xooX7J",
        "outputId": "59a6084a-e54d-4ee5-f37a-7cb0eb24f28f"
      },
      "execution_count": 94,
      "outputs": [
        {
          "output_type": "stream",
          "name": "stdout",
          "text": [
            "Saved model.\n"
          ]
        }
      ]
    },
    {
      "cell_type": "code",
      "source": [
        "pip install ann_visualizer"
      ],
      "metadata": {
        "colab": {
          "base_uri": "https://localhost:8080/"
        },
        "id": "LFr9xoPKqS4P",
        "outputId": "df7c8f85-ba37-4ac6-d322-80202f21f66a"
      },
      "execution_count": 92,
      "outputs": [
        {
          "output_type": "stream",
          "name": "stdout",
          "text": [
            "Collecting ann_visualizer\n",
            "  Downloading ann_visualizer-2.5.tar.gz (4.7 kB)\n",
            "  Preparing metadata (setup.py) ... \u001b[?25l\u001b[?25hdone\n",
            "Building wheels for collected packages: ann_visualizer\n",
            "  Building wheel for ann_visualizer (setup.py) ... \u001b[?25l\u001b[?25hdone\n",
            "  Created wheel for ann_visualizer: filename=ann_visualizer-2.5-py3-none-any.whl size=4167 sha256=ad6e851d44a408e085e133b738e0a4be34a8518488be63558811629352a39d09\n",
            "  Stored in directory: /root/.cache/pip/wheels/6e/0f/ae/f5dba91db71b1b32bf03d0ad18c32e86126093aba5ec6b6488\n",
            "Successfully built ann_visualizer\n",
            "Installing collected packages: ann_visualizer\n",
            "Successfully installed ann_visualizer-2.5\n"
          ]
        }
      ]
    },
    {
      "cell_type": "code",
      "source": [
        "pip install graphviz"
      ],
      "metadata": {
        "colab": {
          "base_uri": "https://localhost:8080/"
        },
        "id": "3alNm1EaqSun",
        "outputId": "412dfaca-d407-44f8-fe81-f238bb82ad10"
      },
      "execution_count": 93,
      "outputs": [
        {
          "output_type": "stream",
          "name": "stdout",
          "text": [
            "Requirement already satisfied: graphviz in /usr/local/lib/python3.10/dist-packages (0.20.1)\n"
          ]
        }
      ]
    },
    {
      "cell_type": "code",
      "source": [
        "from ann_visualizer.visualize import ann_viz;\n",
        "import graphviz\n",
        "ann_viz(model,  filename='Iris_ann_model.gv',title=\" Neural Network model from Iris dataset\")\n",
        "graph_file = graphviz.Source.from_file('Iris_ann_model.gv')\n",
        "graph_file"
      ],
      "metadata": {
        "colab": {
          "base_uri": "https://localhost:8080/",
          "height": 477
        },
        "id": "A8x5S3hbq6qE",
        "outputId": "92859a2f-0908-4ddb-e575-fc699e5061a0"
      },
      "execution_count": 95,
      "outputs": [
        {
          "output_type": "execute_result",
          "data": {
            "image/svg+xml": "<?xml version=\"1.0\" encoding=\"UTF-8\" standalone=\"no\"?>\n<!DOCTYPE svg PUBLIC \"-//W3C//DTD SVG 1.1//EN\"\n \"http://www.w3.org/Graphics/SVG/1.1/DTD/svg11.dtd\">\n<!-- Generated by graphviz version 2.43.0 (0)\n -->\n<!-- Title: g Pages: 1 -->\n<svg width=\"400pt\" height=\"342pt\"\n viewBox=\"0.00 0.00 400.00 342.00\" xmlns=\"http://www.w3.org/2000/svg\" xmlns:xlink=\"http://www.w3.org/1999/xlink\">\n<g id=\"graph0\" class=\"graph\" transform=\"scale(1 1) rotate(0) translate(4 338)\">\n<title>g</title>\n<polygon fill=\"white\" stroke=\"transparent\" points=\"-4,4 -4,-338 396,-338 396,4 -4,4\"/>\n<g id=\"clust1\" class=\"cluster\">\n<title>cluster_input</title>\n<polygon fill=\"none\" stroke=\"white\" points=\"8,-188 8,-326 384,-326 384,-188 8,-188\"/>\n<text text-anchor=\"middle\" x=\"196\" y=\"-310.8\" font-family=\"Times,serif\" font-size=\"14.00\"> Neural Network model from Iris dataset</text>\n<text text-anchor=\"middle\" x=\"196\" y=\"-247.8\" font-family=\"Times,serif\" font-size=\"14.00\">Input Layer</text>\n</g>\n<g id=\"clust2\" class=\"cluster\">\n<title>cluster_1</title>\n<polygon fill=\"none\" stroke=\"white\" points=\"62,-8 62,-60 330,-60 330,-8 62,-8\"/>\n</g>\n<!-- 1 -->\n<g id=\"node1\" class=\"node\">\n<title>1</title>\n<ellipse fill=\"#2ecc71\" stroke=\"#2ecc71\" cx=\"358\" cy=\"-214\" rx=\"18\" ry=\"18\"/>\n<text text-anchor=\"middle\" x=\"358\" y=\"-210.3\" font-family=\"Times,serif\" font-size=\"14.00\" fill=\"#2ecc71\">1</text>\n</g>\n<!-- 5 -->\n<g id=\"node5\" class=\"node\">\n<title>5</title>\n<ellipse fill=\"#3498db\" stroke=\"#3498db\" cx=\"88\" cy=\"-34\" rx=\"18\" ry=\"18\"/>\n<text text-anchor=\"middle\" x=\"88\" y=\"-30.3\" font-family=\"Times,serif\" font-size=\"14.00\" fill=\"#3498db\">5</text>\n</g>\n<!-- 1&#45;&gt;5 -->\n<g id=\"edge1\" class=\"edge\">\n<title>1&#45;&gt;5</title>\n<path fill=\"none\" stroke=\"#707070\" d=\"M343.1,-203.18C295.89,-172.06 150,-75.87 102.85,-44.79\"/>\n</g>\n<!-- 6 -->\n<g id=\"node6\" class=\"node\">\n<title>6</title>\n<ellipse fill=\"#3498db\" stroke=\"#3498db\" cx=\"304\" cy=\"-34\" rx=\"18\" ry=\"18\"/>\n<text text-anchor=\"middle\" x=\"304\" y=\"-30.3\" font-family=\"Times,serif\" font-size=\"14.00\" fill=\"#3498db\">6</text>\n</g>\n<!-- 1&#45;&gt;6 -->\n<g id=\"edge5\" class=\"edge\">\n<title>1&#45;&gt;6</title>\n<path fill=\"none\" stroke=\"#707070\" d=\"M353.02,-196.57C342.73,-162.66 319.25,-85.26 308.97,-51.39\"/>\n</g>\n<!-- 7 -->\n<g id=\"node7\" class=\"node\">\n<title>7</title>\n<ellipse fill=\"#3498db\" stroke=\"#3498db\" cx=\"196\" cy=\"-34\" rx=\"18\" ry=\"18\"/>\n<text text-anchor=\"middle\" x=\"196\" y=\"-30.3\" font-family=\"Times,serif\" font-size=\"14.00\" fill=\"#3498db\">7</text>\n</g>\n<!-- 1&#45;&gt;7 -->\n<g id=\"edge9\" class=\"edge\">\n<title>1&#45;&gt;7</title>\n<path fill=\"none\" stroke=\"#707070\" d=\"M346.35,-200.2C316.6,-167.52 238.09,-81.24 207.98,-48.17\"/>\n</g>\n<!-- 2 -->\n<g id=\"node2\" class=\"node\">\n<title>2</title>\n<ellipse fill=\"#2ecc71\" stroke=\"#2ecc71\" cx=\"250\" cy=\"-214\" rx=\"18\" ry=\"18\"/>\n<text text-anchor=\"middle\" x=\"250\" y=\"-210.3\" font-family=\"Times,serif\" font-size=\"14.00\" fill=\"#2ecc71\">2</text>\n</g>\n<!-- 2&#45;&gt;5 -->\n<g id=\"edge2\" class=\"edge\">\n<title>2&#45;&gt;5</title>\n<path fill=\"none\" stroke=\"#707070\" d=\"M238.35,-200.2C208.6,-167.52 130.09,-81.24 99.98,-48.17\"/>\n</g>\n<!-- 2&#45;&gt;6 -->\n<g id=\"edge6\" class=\"edge\">\n<title>2&#45;&gt;6</title>\n<path fill=\"none\" stroke=\"#707070\" d=\"M254.98,-196.57C265.27,-162.66 288.75,-85.26 299.03,-51.39\"/>\n</g>\n<!-- 2&#45;&gt;7 -->\n<g id=\"edge10\" class=\"edge\">\n<title>2&#45;&gt;7</title>\n<path fill=\"none\" stroke=\"#707070\" d=\"M245.02,-196.57C234.73,-162.66 211.25,-85.26 200.97,-51.39\"/>\n</g>\n<!-- 3 -->\n<g id=\"node3\" class=\"node\">\n<title>3</title>\n<ellipse fill=\"#2ecc71\" stroke=\"#2ecc71\" cx=\"142\" cy=\"-214\" rx=\"18\" ry=\"18\"/>\n<text text-anchor=\"middle\" x=\"142\" y=\"-210.3\" font-family=\"Times,serif\" font-size=\"14.00\" fill=\"#2ecc71\">3</text>\n</g>\n<!-- 3&#45;&gt;5 -->\n<g id=\"edge3\" class=\"edge\">\n<title>3&#45;&gt;5</title>\n<path fill=\"none\" stroke=\"#707070\" d=\"M137.02,-196.57C126.73,-162.66 103.25,-85.26 92.97,-51.39\"/>\n</g>\n<!-- 3&#45;&gt;6 -->\n<g id=\"edge7\" class=\"edge\">\n<title>3&#45;&gt;6</title>\n<path fill=\"none\" stroke=\"#707070\" d=\"M153.65,-200.2C183.4,-167.52 261.91,-81.24 292.02,-48.17\"/>\n</g>\n<!-- 3&#45;&gt;7 -->\n<g id=\"edge11\" class=\"edge\">\n<title>3&#45;&gt;7</title>\n<path fill=\"none\" stroke=\"#707070\" d=\"M146.98,-196.57C157.27,-162.66 180.75,-85.26 191.03,-51.39\"/>\n</g>\n<!-- 4 -->\n<g id=\"node4\" class=\"node\">\n<title>4</title>\n<ellipse fill=\"#2ecc71\" stroke=\"#2ecc71\" cx=\"34\" cy=\"-214\" rx=\"18\" ry=\"18\"/>\n<text text-anchor=\"middle\" x=\"34\" y=\"-210.3\" font-family=\"Times,serif\" font-size=\"14.00\" fill=\"#2ecc71\">4</text>\n</g>\n<!-- 4&#45;&gt;5 -->\n<g id=\"edge4\" class=\"edge\">\n<title>4&#45;&gt;5</title>\n<path fill=\"none\" stroke=\"#707070\" d=\"M38.98,-196.57C49.27,-162.66 72.75,-85.26 83.03,-51.39\"/>\n</g>\n<!-- 4&#45;&gt;6 -->\n<g id=\"edge8\" class=\"edge\">\n<title>4&#45;&gt;6</title>\n<path fill=\"none\" stroke=\"#707070\" d=\"M48.9,-203.18C96.11,-172.06 242,-75.87 289.15,-44.79\"/>\n</g>\n<!-- 4&#45;&gt;7 -->\n<g id=\"edge12\" class=\"edge\">\n<title>4&#45;&gt;7</title>\n<path fill=\"none\" stroke=\"#707070\" d=\"M45.65,-200.2C75.4,-167.52 153.91,-81.24 184.02,-48.17\"/>\n</g>\n</g>\n</svg>\n",
            "text/plain": [
              "<graphviz.sources.Source at 0x7aa68c280550>"
            ]
          },
          "metadata": {},
          "execution_count": 95
        }
      ]
    }
  ]
}